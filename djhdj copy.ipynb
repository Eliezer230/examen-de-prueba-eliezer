{
 "cells": [
  {
   "cell_type": "markdown",
   "id": "43753aa8",
   "metadata": {},
   "source": [
    "Escribe un script que calcule el precio de una entrada de cine basándose en la edad del cliente (un número) y si es_estudiante (un booleano). El precio \"Adulto General\" es de $12. Sin embargo, si la edad es 12 o menos, el precio es \"Infantil\" de $7. Si la edad es 65 o más, el precio es \"Senior\" de $8. Si la persona no es niño ni senior, pero es_estudiante es True, el precio es \"Estudiante\" de $9. Si no cumple ninguna de estas condiciones (es decir, es un adulto no estudiante entre 13 y 64 años), paga el precio \"Adulto General\". Tu script debe mostrar el precio final correcto."
   ]
  },
  {
   "cell_type": "code",
   "execution_count": null,
   "id": "f7b41901",
   "metadata": {},
   "outputs": [],
   "source": []
  },
  {
   "cell_type": "markdown",
   "id": "7043ad6e",
   "metadata": {},
   "source": [
    "Crea un script que determine si un usuario puede acceder a un \"Nivel Secreto\" en un videojuego, basándose en puntos_acumulados (un número) y objeto_clave_obtenido (un booleano). Para acceder, el jugador debe tener más de 5000 puntos y tener el objeto clave. Si el jugador tiene el objeto clave pero no los puntos, debe mostrar el mensaje \"Te faltan puntos\". Si tiene más de 5000 puntos pero no el objeto, debe mostrar \"Te falta el objeto clave\". Si no tiene ninguna de las dos cosas, debe mostrar \"Sigue jugando\". Si cumple ambas condiciones, debe mostrar \"¡Acceso concedido al Nivel Secreto!\"."
   ]
  },
  {
   "cell_type": "code",
   "execution_count": null,
   "id": "a2853488",
   "metadata": {},
   "outputs": [],
   "source": []
  }
 ],
 "metadata": {
  "language_info": {
   "name": "python"
  }
 },
 "nbformat": 4,
 "nbformat_minor": 5
}
